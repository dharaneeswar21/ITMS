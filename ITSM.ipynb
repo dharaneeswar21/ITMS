{
 "cells": [
  {
   "cell_type": "code",
   "execution_count": 47,
   "metadata": {},
   "outputs": [
    {
     "name": "stdout",
     "output_type": "stream",
     "text": [
      "Collecting xgboost\n",
      "  Downloading https://files.pythonhosted.org/packages/5e/49/b95c037b717b4ceadc76b6e164603471225c27052d1611d5a2e832757945/xgboost-0.90-py2.py3-none-win_amd64.whl (18.3MB)\n",
      "Requirement already satisfied: scipy in c:\\users\\hp\\anaconda3\\lib\\site-packages (from xgboost) (1.3.1)\n",
      "Requirement already satisfied: numpy in c:\\users\\hp\\anaconda3\\lib\\site-packages (from xgboost) (1.16.5)\n",
      "Installing collected packages: xgboost\n",
      "Successfully installed xgboost-0.90\n",
      "Note: you may need to restart the kernel to use updated packages.\n"
     ]
    }
   ],
   "source": [
    "\n",
    "pip install xgboost"
   ]
  },
  {
   "cell_type": "code",
   "execution_count": 4,
   "metadata": {},
   "outputs": [],
   "source": [
    "import pandas as pd\n",
    "import pymysql\n",
    "import numpy as np"
   ]
  },
  {
   "cell_type": "code",
   "execution_count": 5,
   "metadata": {},
   "outputs": [],
   "source": [
    "database = pymysql.connect(\"18.136.56.185\",'dm_team','dm_team123#','')"
   ]
  },
  {
   "cell_type": "code",
   "execution_count": 6,
   "metadata": {},
   "outputs": [],
   "source": [
    "cursor = database.cursor()"
   ]
  },
  {
   "cell_type": "code",
   "execution_count": 7,
   "metadata": {},
   "outputs": [
    {
     "data": {
      "text/plain": [
       "2"
      ]
     },
     "execution_count": 7,
     "metadata": {},
     "output_type": "execute_result"
    }
   ],
   "source": [
    "cursor.execute(\"show databases\")"
   ]
  },
  {
   "cell_type": "code",
   "execution_count": 8,
   "metadata": {},
   "outputs": [],
   "source": [
    "dbnames = cursor.fetchall()"
   ]
  },
  {
   "cell_type": "code",
   "execution_count": 9,
   "metadata": {},
   "outputs": [
    {
     "data": {
      "text/plain": [
       "(('information_schema',), ('project_itsm',))"
      ]
     },
     "execution_count": 9,
     "metadata": {},
     "output_type": "execute_result"
    }
   ],
   "source": [
    "dbnames"
   ]
  },
  {
   "cell_type": "code",
   "execution_count": 10,
   "metadata": {},
   "outputs": [
    {
     "data": {
      "text/plain": [
       "0"
      ]
     },
     "execution_count": 10,
     "metadata": {},
     "output_type": "execute_result"
    }
   ],
   "source": [
    "cursor.execute('use project_itsm')"
   ]
  },
  {
   "cell_type": "code",
   "execution_count": 11,
   "metadata": {},
   "outputs": [
    {
     "data": {
      "text/plain": [
       "1"
      ]
     },
     "execution_count": 11,
     "metadata": {},
     "output_type": "execute_result"
    }
   ],
   "source": [
    "cursor.execute('show tables')"
   ]
  },
  {
   "cell_type": "code",
   "execution_count": 12,
   "metadata": {},
   "outputs": [],
   "source": [
    "dat = cursor.fetchall()"
   ]
  },
  {
   "cell_type": "code",
   "execution_count": 13,
   "metadata": {},
   "outputs": [
    {
     "data": {
      "text/plain": [
       "(('dataset_list',),)"
      ]
     },
     "execution_count": 13,
     "metadata": {},
     "output_type": "execute_result"
    }
   ],
   "source": [
    "dat"
   ]
  },
  {
   "cell_type": "code",
   "execution_count": 14,
   "metadata": {},
   "outputs": [
    {
     "data": {
      "text/plain": [
       "46606"
      ]
     },
     "execution_count": 14,
     "metadata": {},
     "output_type": "execute_result"
    }
   ],
   "source": [
    "cursor.execute('select * from dataset_list')"
   ]
  },
  {
   "cell_type": "code",
   "execution_count": 15,
   "metadata": {},
   "outputs": [],
   "source": [
    "data = cursor.fetchall()"
   ]
  },
  {
   "cell_type": "code",
   "execution_count": 16,
   "metadata": {},
   "outputs": [],
   "source": [
    "df_backup = pd.DataFrame(list(data))"
   ]
  },
  {
   "cell_type": "code",
   "execution_count": 17,
   "metadata": {},
   "outputs": [],
   "source": [
    "df = df_backup"
   ]
  },
  {
   "cell_type": "code",
   "execution_count": 18,
   "metadata": {},
   "outputs": [
    {
     "data": {
      "text/plain": [
       "(46606, 25)"
      ]
     },
     "execution_count": 18,
     "metadata": {},
     "output_type": "execute_result"
    }
   ],
   "source": [
    "df.shape"
   ]
  },
  {
   "cell_type": "code",
   "execution_count": 19,
   "metadata": {},
   "outputs": [],
   "source": [
    "df.columns = ['CI_Name', 'CI_Cat', 'CI_Subcat', 'WBS', 'Incident_ID', 'Status', 'Impact', 'Urgency', 'Priority', 'number_count', 'Category', 'KB_number', 'Alert_Status', 'No_of_Reassignments', 'Open_Time', 'Reopen_Time', 'Resolved_Time', 'Close_Time', 'Handle_Time_hrs', 'Closure_Code', 'No_of_Related_Interactions', 'Related_Interaction','No_of_Related_Incidents','No_of_Related_Changes','Related_Change']"
   ]
  },
  {
   "cell_type": "code",
   "execution_count": 20,
   "metadata": {},
   "outputs": [
    {
     "data": {
      "text/html": [
       "<div>\n",
       "<style scoped>\n",
       "    .dataframe tbody tr th:only-of-type {\n",
       "        vertical-align: middle;\n",
       "    }\n",
       "\n",
       "    .dataframe tbody tr th {\n",
       "        vertical-align: top;\n",
       "    }\n",
       "\n",
       "    .dataframe thead th {\n",
       "        text-align: right;\n",
       "    }\n",
       "</style>\n",
       "<table border=\"1\" class=\"dataframe\">\n",
       "  <thead>\n",
       "    <tr style=\"text-align: right;\">\n",
       "      <th></th>\n",
       "      <th>CI_Name</th>\n",
       "      <th>CI_Cat</th>\n",
       "      <th>CI_Subcat</th>\n",
       "      <th>WBS</th>\n",
       "      <th>Incident_ID</th>\n",
       "      <th>Status</th>\n",
       "      <th>Impact</th>\n",
       "      <th>Urgency</th>\n",
       "      <th>Priority</th>\n",
       "      <th>number_count</th>\n",
       "      <th>...</th>\n",
       "      <th>Reopen_Time</th>\n",
       "      <th>Resolved_Time</th>\n",
       "      <th>Close_Time</th>\n",
       "      <th>Handle_Time_hrs</th>\n",
       "      <th>Closure_Code</th>\n",
       "      <th>No_of_Related_Interactions</th>\n",
       "      <th>Related_Interaction</th>\n",
       "      <th>No_of_Related_Incidents</th>\n",
       "      <th>No_of_Related_Changes</th>\n",
       "      <th>Related_Change</th>\n",
       "    </tr>\n",
       "  </thead>\n",
       "  <tbody>\n",
       "    <tr>\n",
       "      <td>0</td>\n",
       "      <td>SUB000508</td>\n",
       "      <td>subapplication</td>\n",
       "      <td>Web Based Application</td>\n",
       "      <td>WBS000162</td>\n",
       "      <td>IM0000004</td>\n",
       "      <td>Closed</td>\n",
       "      <td>4</td>\n",
       "      <td>4</td>\n",
       "      <td>4</td>\n",
       "      <td>0.601292279</td>\n",
       "      <td>...</td>\n",
       "      <td></td>\n",
       "      <td>04-11-2013 13:50</td>\n",
       "      <td>04-11-2013 13:51</td>\n",
       "      <td>3,87,16,91,111</td>\n",
       "      <td>Other</td>\n",
       "      <td>1</td>\n",
       "      <td>SD0000007</td>\n",
       "      <td>2</td>\n",
       "      <td></td>\n",
       "      <td></td>\n",
       "    </tr>\n",
       "    <tr>\n",
       "      <td>1</td>\n",
       "      <td>WBA000124</td>\n",
       "      <td>application</td>\n",
       "      <td>Web Based Application</td>\n",
       "      <td>WBS000088</td>\n",
       "      <td>IM0000005</td>\n",
       "      <td>Closed</td>\n",
       "      <td>3</td>\n",
       "      <td>3</td>\n",
       "      <td>3</td>\n",
       "      <td>0.415049969</td>\n",
       "      <td>...</td>\n",
       "      <td>02-12-2013 12:31</td>\n",
       "      <td>02-12-2013 12:36</td>\n",
       "      <td>02-12-2013 12:36</td>\n",
       "      <td>4,35,47,86,389</td>\n",
       "      <td>Software</td>\n",
       "      <td>1</td>\n",
       "      <td>SD0000011</td>\n",
       "      <td>1</td>\n",
       "      <td></td>\n",
       "      <td></td>\n",
       "    </tr>\n",
       "    <tr>\n",
       "      <td>2</td>\n",
       "      <td>DTA000024</td>\n",
       "      <td>application</td>\n",
       "      <td>Desktop Application</td>\n",
       "      <td>WBS000092</td>\n",
       "      <td>IM0000006</td>\n",
       "      <td>Closed</td>\n",
       "      <td>NS</td>\n",
       "      <td>3</td>\n",
       "      <td>NA</td>\n",
       "      <td>0.517551335</td>\n",
       "      <td>...</td>\n",
       "      <td></td>\n",
       "      <td>13-01-2014 15:12</td>\n",
       "      <td>13-01-2014 15:13</td>\n",
       "      <td>4,84,31,19,444</td>\n",
       "      <td>No error - works as designed</td>\n",
       "      <td>1</td>\n",
       "      <td>SD0000017</td>\n",
       "      <td></td>\n",
       "      <td></td>\n",
       "      <td></td>\n",
       "    </tr>\n",
       "    <tr>\n",
       "      <td>3</td>\n",
       "      <td>WBA000124</td>\n",
       "      <td>application</td>\n",
       "      <td>Web Based Application</td>\n",
       "      <td>WBS000088</td>\n",
       "      <td>IM0000011</td>\n",
       "      <td>Closed</td>\n",
       "      <td>4</td>\n",
       "      <td>4</td>\n",
       "      <td>4</td>\n",
       "      <td>0.642927218</td>\n",
       "      <td>...</td>\n",
       "      <td></td>\n",
       "      <td>14-11-2013 09:31</td>\n",
       "      <td>14-11-2013 09:31</td>\n",
       "      <td>4,32,18,33,333</td>\n",
       "      <td>Operator error</td>\n",
       "      <td>1</td>\n",
       "      <td>SD0000025</td>\n",
       "      <td></td>\n",
       "      <td></td>\n",
       "      <td></td>\n",
       "    </tr>\n",
       "    <tr>\n",
       "      <td>4</td>\n",
       "      <td>WBA000124</td>\n",
       "      <td>application</td>\n",
       "      <td>Web Based Application</td>\n",
       "      <td>WBS000088</td>\n",
       "      <td>IM0000012</td>\n",
       "      <td>Closed</td>\n",
       "      <td>4</td>\n",
       "      <td>4</td>\n",
       "      <td>4</td>\n",
       "      <td>0.345258343</td>\n",
       "      <td>...</td>\n",
       "      <td></td>\n",
       "      <td>08-11-2013 13:55</td>\n",
       "      <td>08-11-2013 13:55</td>\n",
       "      <td>3,38,39,03,333</td>\n",
       "      <td>Other</td>\n",
       "      <td>1</td>\n",
       "      <td>SD0000029</td>\n",
       "      <td></td>\n",
       "      <td></td>\n",
       "      <td></td>\n",
       "    </tr>\n",
       "  </tbody>\n",
       "</table>\n",
       "<p>5 rows × 25 columns</p>\n",
       "</div>"
      ],
      "text/plain": [
       "     CI_Name          CI_Cat              CI_Subcat        WBS Incident_ID  \\\n",
       "0  SUB000508  subapplication  Web Based Application  WBS000162   IM0000004   \n",
       "1  WBA000124     application  Web Based Application  WBS000088   IM0000005   \n",
       "2  DTA000024     application    Desktop Application  WBS000092   IM0000006   \n",
       "3  WBA000124     application  Web Based Application  WBS000088   IM0000011   \n",
       "4  WBA000124     application  Web Based Application  WBS000088   IM0000012   \n",
       "\n",
       "   Status Impact Urgency Priority number_count  ...       Reopen_Time  \\\n",
       "0  Closed      4       4        4  0.601292279  ...                     \n",
       "1  Closed      3       3        3  0.415049969  ...  02-12-2013 12:31   \n",
       "2  Closed     NS       3       NA  0.517551335  ...                     \n",
       "3  Closed      4       4        4  0.642927218  ...                     \n",
       "4  Closed      4       4        4  0.345258343  ...                     \n",
       "\n",
       "      Resolved_Time        Close_Time Handle_Time_hrs  \\\n",
       "0  04-11-2013 13:50  04-11-2013 13:51  3,87,16,91,111   \n",
       "1  02-12-2013 12:36  02-12-2013 12:36  4,35,47,86,389   \n",
       "2  13-01-2014 15:12  13-01-2014 15:13  4,84,31,19,444   \n",
       "3  14-11-2013 09:31  14-11-2013 09:31  4,32,18,33,333   \n",
       "4  08-11-2013 13:55  08-11-2013 13:55  3,38,39,03,333   \n",
       "\n",
       "                   Closure_Code No_of_Related_Interactions  \\\n",
       "0                         Other                          1   \n",
       "1                      Software                          1   \n",
       "2  No error - works as designed                          1   \n",
       "3                Operator error                          1   \n",
       "4                         Other                          1   \n",
       "\n",
       "  Related_Interaction No_of_Related_Incidents No_of_Related_Changes  \\\n",
       "0           SD0000007                       2                         \n",
       "1           SD0000011                       1                         \n",
       "2           SD0000017                                                 \n",
       "3           SD0000025                                                 \n",
       "4           SD0000029                                                 \n",
       "\n",
       "  Related_Change  \n",
       "0                 \n",
       "1                 \n",
       "2                 \n",
       "3                 \n",
       "4                 \n",
       "\n",
       "[5 rows x 25 columns]"
      ]
     },
     "execution_count": 20,
     "metadata": {},
     "output_type": "execute_result"
    }
   ],
   "source": [
    "df.head()"
   ]
  },
  {
   "cell_type": "code",
   "execution_count": 21,
   "metadata": {},
   "outputs": [
    {
     "data": {
      "text/html": [
       "<div>\n",
       "<style scoped>\n",
       "    .dataframe tbody tr th:only-of-type {\n",
       "        vertical-align: middle;\n",
       "    }\n",
       "\n",
       "    .dataframe tbody tr th {\n",
       "        vertical-align: top;\n",
       "    }\n",
       "\n",
       "    .dataframe thead th {\n",
       "        text-align: right;\n",
       "    }\n",
       "</style>\n",
       "<table border=\"1\" class=\"dataframe\">\n",
       "  <thead>\n",
       "    <tr style=\"text-align: right;\">\n",
       "      <th></th>\n",
       "      <th>CI_Name</th>\n",
       "      <th>CI_Cat</th>\n",
       "      <th>CI_Subcat</th>\n",
       "      <th>WBS</th>\n",
       "      <th>Incident_ID</th>\n",
       "      <th>Status</th>\n",
       "      <th>Impact</th>\n",
       "      <th>Urgency</th>\n",
       "      <th>Priority</th>\n",
       "      <th>number_count</th>\n",
       "      <th>...</th>\n",
       "      <th>Reopen_Time</th>\n",
       "      <th>Resolved_Time</th>\n",
       "      <th>Close_Time</th>\n",
       "      <th>Handle_Time_hrs</th>\n",
       "      <th>Closure_Code</th>\n",
       "      <th>No_of_Related_Interactions</th>\n",
       "      <th>Related_Interaction</th>\n",
       "      <th>No_of_Related_Incidents</th>\n",
       "      <th>No_of_Related_Changes</th>\n",
       "      <th>Related_Change</th>\n",
       "    </tr>\n",
       "  </thead>\n",
       "  <tbody>\n",
       "    <tr>\n",
       "      <td>count</td>\n",
       "      <td>46606</td>\n",
       "      <td>46606</td>\n",
       "      <td>46606</td>\n",
       "      <td>46606</td>\n",
       "      <td>46606</td>\n",
       "      <td>46606</td>\n",
       "      <td>46606</td>\n",
       "      <td>46606</td>\n",
       "      <td>46606</td>\n",
       "      <td>46606</td>\n",
       "      <td>...</td>\n",
       "      <td>46606</td>\n",
       "      <td>46606</td>\n",
       "      <td>46606</td>\n",
       "      <td>46606</td>\n",
       "      <td>46606</td>\n",
       "      <td>46606</td>\n",
       "      <td>46606</td>\n",
       "      <td>46606</td>\n",
       "      <td>46606</td>\n",
       "      <td>46606</td>\n",
       "    </tr>\n",
       "    <tr>\n",
       "      <td>unique</td>\n",
       "      <td>3019</td>\n",
       "      <td>13</td>\n",
       "      <td>65</td>\n",
       "      <td>274</td>\n",
       "      <td>46606</td>\n",
       "      <td>2</td>\n",
       "      <td>6</td>\n",
       "      <td>6</td>\n",
       "      <td>6</td>\n",
       "      <td>46606</td>\n",
       "      <td>...</td>\n",
       "      <td>2245</td>\n",
       "      <td>33628</td>\n",
       "      <td>34528</td>\n",
       "      <td>30639</td>\n",
       "      <td>15</td>\n",
       "      <td>50</td>\n",
       "      <td>43060</td>\n",
       "      <td>25</td>\n",
       "      <td>5</td>\n",
       "      <td>233</td>\n",
       "    </tr>\n",
       "    <tr>\n",
       "      <td>top</td>\n",
       "      <td>SUB000456</td>\n",
       "      <td>application</td>\n",
       "      <td>Server Based Application</td>\n",
       "      <td>WBS000073</td>\n",
       "      <td>IM0019394</td>\n",
       "      <td>Closed</td>\n",
       "      <td>4</td>\n",
       "      <td>4</td>\n",
       "      <td>4</td>\n",
       "      <td>0.71950861</td>\n",
       "      <td>...</td>\n",
       "      <td></td>\n",
       "      <td></td>\n",
       "      <td>02-10-2013 15:20</td>\n",
       "      <td>0</td>\n",
       "      <td>Other</td>\n",
       "      <td>1</td>\n",
       "      <td>#MULTIVALUE</td>\n",
       "      <td></td>\n",
       "      <td></td>\n",
       "      <td></td>\n",
       "    </tr>\n",
       "    <tr>\n",
       "      <td>freq</td>\n",
       "      <td>3050</td>\n",
       "      <td>32900</td>\n",
       "      <td>18811</td>\n",
       "      <td>13342</td>\n",
       "      <td>1</td>\n",
       "      <td>46597</td>\n",
       "      <td>22556</td>\n",
       "      <td>22588</td>\n",
       "      <td>22717</td>\n",
       "      <td>1</td>\n",
       "      <td>...</td>\n",
       "      <td>44322</td>\n",
       "      <td>1780</td>\n",
       "      <td>21</td>\n",
       "      <td>236</td>\n",
       "      <td>16470</td>\n",
       "      <td>43058</td>\n",
       "      <td>3434</td>\n",
       "      <td>45384</td>\n",
       "      <td>46046</td>\n",
       "      <td>46046</td>\n",
       "    </tr>\n",
       "  </tbody>\n",
       "</table>\n",
       "<p>4 rows × 25 columns</p>\n",
       "</div>"
      ],
      "text/plain": [
       "          CI_Name       CI_Cat                 CI_Subcat        WBS  \\\n",
       "count       46606        46606                     46606      46606   \n",
       "unique       3019           13                        65        274   \n",
       "top     SUB000456  application  Server Based Application  WBS000073   \n",
       "freq         3050        32900                     18811      13342   \n",
       "\n",
       "       Incident_ID  Status Impact Urgency Priority number_count  ...  \\\n",
       "count        46606   46606  46606   46606    46606        46606  ...   \n",
       "unique       46606       2      6       6        6        46606  ...   \n",
       "top      IM0019394  Closed      4       4        4   0.71950861  ...   \n",
       "freq             1   46597  22556   22588    22717            1  ...   \n",
       "\n",
       "       Reopen_Time Resolved_Time        Close_Time Handle_Time_hrs  \\\n",
       "count        46606         46606             46606           46606   \n",
       "unique        2245         33628             34528           30639   \n",
       "top                               02-10-2013 15:20               0   \n",
       "freq         44322          1780                21             236   \n",
       "\n",
       "       Closure_Code No_of_Related_Interactions Related_Interaction  \\\n",
       "count         46606                      46606               46606   \n",
       "unique           15                         50               43060   \n",
       "top           Other                          1         #MULTIVALUE   \n",
       "freq          16470                      43058                3434   \n",
       "\n",
       "       No_of_Related_Incidents No_of_Related_Changes Related_Change  \n",
       "count                    46606                 46606          46606  \n",
       "unique                      25                     5            233  \n",
       "top                                                                  \n",
       "freq                     45384                 46046          46046  \n",
       "\n",
       "[4 rows x 25 columns]"
      ]
     },
     "execution_count": 21,
     "metadata": {},
     "output_type": "execute_result"
    }
   ],
   "source": [
    "df.describe()"
   ]
  },
  {
   "cell_type": "code",
   "execution_count": 22,
   "metadata": {},
   "outputs": [],
   "source": [
    "df.replace('',np.nan,inplace=True)"
   ]
  },
  {
   "cell_type": "code",
   "execution_count": 23,
   "metadata": {},
   "outputs": [
    {
     "name": "stdout",
     "output_type": "stream",
     "text": [
      "<class 'pandas.core.frame.DataFrame'>\n",
      "RangeIndex: 46606 entries, 0 to 46605\n",
      "Data columns (total 25 columns):\n",
      "CI_Name                       46606 non-null object\n",
      "CI_Cat                        46495 non-null object\n",
      "CI_Subcat                     46495 non-null object\n",
      "WBS                           46606 non-null object\n",
      "Incident_ID                   46606 non-null object\n",
      "Status                        46606 non-null object\n",
      "Impact                        46606 non-null object\n",
      "Urgency                       46606 non-null object\n",
      "Priority                      46606 non-null object\n",
      "number_count                  46606 non-null object\n",
      "Category                      46606 non-null object\n",
      "KB_number                     46606 non-null object\n",
      "Alert_Status                  46606 non-null object\n",
      "No_of_Reassignments           46605 non-null object\n",
      "Open_Time                     46606 non-null object\n",
      "Reopen_Time                   2284 non-null object\n",
      "Resolved_Time                 44826 non-null object\n",
      "Close_Time                    46606 non-null object\n",
      "Handle_Time_hrs               46605 non-null object\n",
      "Closure_Code                  46146 non-null object\n",
      "No_of_Related_Interactions    46492 non-null object\n",
      "Related_Interaction           46606 non-null object\n",
      "No_of_Related_Incidents       1222 non-null object\n",
      "No_of_Related_Changes         560 non-null object\n",
      "Related_Change                560 non-null object\n",
      "dtypes: object(25)\n",
      "memory usage: 8.9+ MB\n"
     ]
    }
   ],
   "source": [
    "df.info()"
   ]
  },
  {
   "cell_type": "code",
   "execution_count": 24,
   "metadata": {},
   "outputs": [
    {
     "data": {
      "text/plain": [
       "0        subapplication\n",
       "1           application\n",
       "2           application\n",
       "3           application\n",
       "4           application\n",
       "              ...      \n",
       "46601       application\n",
       "46602       application\n",
       "46603          computer\n",
       "46604       application\n",
       "46605          hardware\n",
       "Name: CI_Cat, Length: 46606, dtype: object"
      ]
     },
     "execution_count": 24,
     "metadata": {},
     "output_type": "execute_result"
    }
   ],
   "source": [
    "df['CI_Cat']"
   ]
  },
  {
   "cell_type": "code",
   "execution_count": 25,
   "metadata": {},
   "outputs": [
    {
     "data": {
      "text/plain": [
       "Counter({'subapplication': 7782,\n",
       "         'application': 32900,\n",
       "         'computer': 3643,\n",
       "         nan: 111,\n",
       "         'displaydevice': 212,\n",
       "         'software': 333,\n",
       "         'storage': 703,\n",
       "         'database': 214,\n",
       "         'hardware': 442,\n",
       "         'officeelectronics': 152,\n",
       "         'networkcomponents': 107,\n",
       "         'applicationcomponent': 5,\n",
       "         'Phone': 2})"
      ]
     },
     "execution_count": 25,
     "metadata": {},
     "output_type": "execute_result"
    }
   ],
   "source": [
    "from collections import Counter\n",
    "Counter(df.CI_Cat)"
   ]
  },
  {
   "cell_type": "code",
   "execution_count": 26,
   "metadata": {},
   "outputs": [],
   "source": [
    "df['CI_Cat'].replace(['database'],'storage',inplace=True)\n",
    "df['CI_Cat'].replace(['applicationcomponent'],'subapplication',inplace=True)\n",
    "df['CI_Cat'].replace(['displaydevice','officeelectronics','Phone','networkcomponents'],'hardware',inplace=True)\n",
    "df['CI_Cat'].replace(np.nan,'application',inplace=True)"
   ]
  },
  {
   "cell_type": "code",
   "execution_count": 27,
   "metadata": {},
   "outputs": [
    {
     "data": {
      "text/plain": [
       "Counter({'Web Based Application': 15311,\n",
       "         'Desktop Application': 3876,\n",
       "         'Server Based Application': 18811,\n",
       "         'SAP': 1199,\n",
       "         'Client Based Application': 492,\n",
       "         'Citrix': 767,\n",
       "         'Standard Application': 85,\n",
       "         'Windows Server': 153,\n",
       "         'Laptop': 1921,\n",
       "         'Linux Server': 55,\n",
       "         nan: 111,\n",
       "         'Monitor': 212,\n",
       "         'Automation Software': 55,\n",
       "         'SAN': 549,\n",
       "         'Banking Device': 916,\n",
       "         'Desktop': 423,\n",
       "         'Database': 211,\n",
       "         'Oracle Server': 3,\n",
       "         'Keyboard': 27,\n",
       "         'Printer': 88,\n",
       "         'Exchange': 130,\n",
       "         'System Software': 272,\n",
       "         'VDI': 9,\n",
       "         'Encryption': 45,\n",
       "         'Omgeving': 86,\n",
       "         'MigratieDummy': 60,\n",
       "         'Scanner': 64,\n",
       "         'Controller': 146,\n",
       "         'DataCenterEquipment': 277,\n",
       "         'KVM Switches': 32,\n",
       "         'Switch': 28,\n",
       "         'Database Software': 4,\n",
       "         'Network Component': 32,\n",
       "         'Unix Server': 7,\n",
       "         'Lines': 15,\n",
       "         'ESX Cluster': 11,\n",
       "         'zOS Server': 4,\n",
       "         'SharePoint Farm': 11,\n",
       "         'NonStop Server': 14,\n",
       "         'Application Server': 1,\n",
       "         'Security Software': 1,\n",
       "         'Thin Client': 6,\n",
       "         'zOS Cluster': 17,\n",
       "         'Router': 16,\n",
       "         'VMWare': 1,\n",
       "         'Net Device': 11,\n",
       "         'Neoview Server': 1,\n",
       "         'MQ Queue Manager': 4,\n",
       "         'UPS': 1,\n",
       "         'Number': 2,\n",
       "         'Iptelephony': 1,\n",
       "         'Windows Server in extern beheer': 1,\n",
       "         'Modem': 3,\n",
       "         'X86 Server': 10,\n",
       "         'ESX Server': 2,\n",
       "         'Virtual Tape Server': 1,\n",
       "         'IPtelephony': 2,\n",
       "         'NonStop Harddisk': 2,\n",
       "         'Firewall': 2,\n",
       "         'RAC Service': 1,\n",
       "         'zOS Systeem': 2,\n",
       "         'Instance': 2,\n",
       "         'NonStop Storage': 1,\n",
       "         'Protocol': 1,\n",
       "         'Tape Library': 2})"
      ]
     },
     "execution_count": 27,
     "metadata": {},
     "output_type": "execute_result"
    }
   ],
   "source": [
    "Counter(df.CI_Subcat)"
   ]
  },
  {
   "cell_type": "code",
   "execution_count": 28,
   "metadata": {},
   "outputs": [],
   "source": [
    "df.CI_Subcat.replace('Desktop','Desktop Application',inplace=True)\n",
    "df.CI_Subcat.replace(['Application Server','Virtual Tape Server','ESX Server','zOS Server','Neoview Server','X86 Server',\n",
    "                       'Unix Server','Oracle Server','Windows Server in extern beheer','Thin Client','NonStop Server',\n",
    "                       'Number','Windows Server','Linux Server',np.nan,'SharePoint Farm','Lines'],\n",
    "                       'Server Based Application',inplace=True)\n",
    "df.CI_Subcat.replace('RAC Service','Banking Device',inplace=True)\n",
    "df.CI_Subcat.replace(['Iptelephony','Protocol','Net Device','IPtelephony','ESX Cluster','Standard Application'],\n",
    "                       'Web Based Application',inplace=True)\n",
    "df.CI_Subcat.replace(['VMWare','Security Software','zOS Systeem','Firewall','Database Software','VDI','Instance',\n",
    "                       'MQ Queue Manager','Automation Software','Citrix','SAP','Encryption'],'System Software',inplace=True)\n",
    "df.CI_Subcat.replace(['UPS','Omgeving'],'Client Based Application',inplace=True)\n",
    "df.CI_Subcat.replace(['NonStop Storage','NonStop Harddisk','Tape Library','zOS Cluster','DataCenterEquipment',\n",
    "                       'MigratieDummy'],'Database',inplace=True)\n",
    "df.CI_Subcat.replace(['Modem','Router'],'Network Component',inplace=True)\n",
    "df.CI_Subcat.replace('KVM Switches','Switch',inplace=True)\n",
    "df.CI_Subcat.replace(np.nan,'application component',inplace=True)\n",
    "df.CI_Subcat.replace(['Keyboard','Printer','Scanner'],'hardware',inplace=True)"
   ]
  },
  {
   "cell_type": "code",
   "execution_count": 29,
   "metadata": {},
   "outputs": [],
   "source": [
    "df.No_of_Related_Interactions.replace(np.nan,1,inplace=True)\n",
    "df.Priority.replace(np.nan,4,inplace=True)\n",
    "df.No_of_Related_Incidents.replace(np.nan,0,inplace=True)\n",
    "df.No_of_Related_Changes.replace(np.nan,0,inplace=True)"
   ]
  },
  {
   "cell_type": "code",
   "execution_count": 30,
   "metadata": {},
   "outputs": [
    {
     "name": "stdout",
     "output_type": "stream",
     "text": [
      "<class 'pandas.core.frame.DataFrame'>\n",
      "RangeIndex: 46606 entries, 0 to 46605\n",
      "Data columns (total 25 columns):\n",
      "CI_Name                       46606 non-null object\n",
      "CI_Cat                        46606 non-null object\n",
      "CI_Subcat                     46606 non-null object\n",
      "WBS                           46606 non-null object\n",
      "Incident_ID                   46606 non-null object\n",
      "Status                        46606 non-null object\n",
      "Impact                        46606 non-null object\n",
      "Urgency                       46606 non-null object\n",
      "Priority                      46606 non-null object\n",
      "number_count                  46606 non-null object\n",
      "Category                      46606 non-null object\n",
      "KB_number                     46606 non-null object\n",
      "Alert_Status                  46606 non-null object\n",
      "No_of_Reassignments           46605 non-null object\n",
      "Open_Time                     46606 non-null object\n",
      "Reopen_Time                   2284 non-null object\n",
      "Resolved_Time                 44826 non-null object\n",
      "Close_Time                    46606 non-null object\n",
      "Handle_Time_hrs               46605 non-null object\n",
      "Closure_Code                  46146 non-null object\n",
      "No_of_Related_Interactions    46606 non-null object\n",
      "Related_Interaction           46606 non-null object\n",
      "No_of_Related_Incidents       46606 non-null object\n",
      "No_of_Related_Changes         46606 non-null object\n",
      "Related_Change                560 non-null object\n",
      "dtypes: object(25)\n",
      "memory usage: 8.9+ MB\n"
     ]
    }
   ],
   "source": [
    "df.info()"
   ]
  },
  {
   "cell_type": "code",
   "execution_count": 31,
   "metadata": {},
   "outputs": [
    {
     "data": {
      "text/plain": [
       "0                       incident\n",
       "1                       incident\n",
       "2        request for information\n",
       "3                       incident\n",
       "4                       incident\n",
       "                  ...           \n",
       "46601                   incident\n",
       "46602                   incident\n",
       "46603                   incident\n",
       "46604                   incident\n",
       "46605                   incident\n",
       "Name: Category, Length: 46606, dtype: object"
      ]
     },
     "execution_count": 31,
     "metadata": {},
     "output_type": "execute_result"
    }
   ],
   "source": [
    "df['Category']"
   ]
  },
  {
   "cell_type": "markdown",
   "metadata": {},
   "source": [
    "# priorities"
   ]
  },
  {
   "cell_type": "code",
   "execution_count": 32,
   "metadata": {},
   "outputs": [],
   "source": [
    "X = df.loc[:,['CI_Cat','CI_Subcat','WBS','Category']]\n",
    "y = df.Priority"
   ]
  },
  {
   "cell_type": "code",
   "execution_count": 33,
   "metadata": {},
   "outputs": [],
   "source": [
    "from sklearn.preprocessing import LabelEncoder\n",
    "\n",
    "enc = LabelEncoder()\n",
    "for i in (0,1,2,3):\n",
    "    X.iloc[:,i] = enc.fit_transform(X.iloc[:,i])"
   ]
  },
  {
   "cell_type": "code",
   "execution_count": 34,
   "metadata": {},
   "outputs": [],
   "source": [
    "from sklearn.model_selection import train_test_split\n",
    "X_train,X_test,y_train,y_test = train_test_split(X,y,test_size = 0.3,random_state = 10)"
   ]
  },
  {
   "cell_type": "code",
   "execution_count": 35,
   "metadata": {},
   "outputs": [],
   "source": [
    "from sklearn.preprocessing import StandardScaler\n",
    "\n",
    "sc = StandardScaler()\n",
    "X_train = sc.fit_transform(X_train)\n",
    "X_test = sc.transform(X_test)"
   ]
  },
  {
   "cell_type": "code",
   "execution_count": 36,
   "metadata": {},
   "outputs": [
    {
     "data": {
      "text/plain": [
       "(32624, 4)"
      ]
     },
     "execution_count": 36,
     "metadata": {},
     "output_type": "execute_result"
    }
   ],
   "source": [
    "X_train.shape"
   ]
  },
  {
   "cell_type": "code",
   "execution_count": 37,
   "metadata": {},
   "outputs": [
    {
     "data": {
      "text/plain": [
       "(13982, 4)"
      ]
     },
     "execution_count": 37,
     "metadata": {},
     "output_type": "execute_result"
    }
   ],
   "source": [
    "X_test.shape"
   ]
  },
  {
   "cell_type": "markdown",
   "metadata": {},
   "source": [
    "# Models"
   ]
  },
  {
   "cell_type": "markdown",
   "metadata": {},
   "source": [
    "# svm"
   ]
  },
  {
   "cell_type": "code",
   "execution_count": 38,
   "metadata": {},
   "outputs": [],
   "source": [
    "import numpy as np\n",
    "from sklearn import svm\n",
    "from sklearn.model_selection import GridSearchCV"
   ]
  },
  {
   "cell_type": "code",
   "execution_count": 39,
   "metadata": {},
   "outputs": [],
   "source": [
    "from sklearn.svm import SVC"
   ]
  },
  {
   "cell_type": "code",
   "execution_count": 40,
   "metadata": {},
   "outputs": [
    {
     "name": "stdout",
     "output_type": "stream",
     "text": [
      "0.7300100128736947\n"
     ]
    },
    {
     "data": {
      "text/html": [
       "<div>\n",
       "<style scoped>\n",
       "    .dataframe tbody tr th:only-of-type {\n",
       "        vertical-align: middle;\n",
       "    }\n",
       "\n",
       "    .dataframe tbody tr th {\n",
       "        vertical-align: top;\n",
       "    }\n",
       "\n",
       "    .dataframe thead th {\n",
       "        text-align: right;\n",
       "    }\n",
       "</style>\n",
       "<table border=\"1\" class=\"dataframe\">\n",
       "  <thead>\n",
       "    <tr style=\"text-align: right;\">\n",
       "      <th>col_0</th>\n",
       "      <th>2</th>\n",
       "      <th>3</th>\n",
       "      <th>4</th>\n",
       "      <th>5</th>\n",
       "    </tr>\n",
       "    <tr>\n",
       "      <th>Priority</th>\n",
       "      <th></th>\n",
       "      <th></th>\n",
       "      <th></th>\n",
       "      <th></th>\n",
       "    </tr>\n",
       "  </thead>\n",
       "  <tbody>\n",
       "    <tr>\n",
       "      <td>1</td>\n",
       "      <td>0</td>\n",
       "      <td>0</td>\n",
       "      <td>1</td>\n",
       "      <td>0</td>\n",
       "    </tr>\n",
       "    <tr>\n",
       "      <td>2</td>\n",
       "      <td>137</td>\n",
       "      <td>9</td>\n",
       "      <td>55</td>\n",
       "      <td>9</td>\n",
       "    </tr>\n",
       "    <tr>\n",
       "      <td>3</td>\n",
       "      <td>36</td>\n",
       "      <td>539</td>\n",
       "      <td>909</td>\n",
       "      <td>97</td>\n",
       "    </tr>\n",
       "    <tr>\n",
       "      <td>4</td>\n",
       "      <td>67</td>\n",
       "      <td>207</td>\n",
       "      <td>6182</td>\n",
       "      <td>373</td>\n",
       "    </tr>\n",
       "    <tr>\n",
       "      <td>5</td>\n",
       "      <td>10</td>\n",
       "      <td>97</td>\n",
       "      <td>1480</td>\n",
       "      <td>3349</td>\n",
       "    </tr>\n",
       "    <tr>\n",
       "      <td>NA</td>\n",
       "      <td>11</td>\n",
       "      <td>145</td>\n",
       "      <td>253</td>\n",
       "      <td>16</td>\n",
       "    </tr>\n",
       "  </tbody>\n",
       "</table>\n",
       "</div>"
      ],
      "text/plain": [
       "col_0       2    3     4     5\n",
       "Priority                      \n",
       "1           0    0     1     0\n",
       "2         137    9    55     9\n",
       "3          36  539   909    97\n",
       "4          67  207  6182   373\n",
       "5          10   97  1480  3349\n",
       "NA         11  145   253    16"
      ]
     },
     "execution_count": 40,
     "metadata": {},
     "output_type": "execute_result"
    }
   ],
   "source": [
    "from sklearn.metrics import classification_report,accuracy_score,confusion_matrix\n",
    "model = SVC(kernel = 'rbf',C=1.0)\n",
    "model.fit(X_train,y_train)\n",
    "y_predict = model.predict(X_test)\n",
    "print(accuracy_score(y_test,y_predict))\n",
    "pd.crosstab(y_test, y_predict)"
   ]
  },
  {
   "cell_type": "code",
   "execution_count": null,
   "metadata": {},
   "outputs": [],
   "source": []
  },
  {
   "cell_type": "markdown",
   "metadata": {},
   "source": [
    "kernel = ['linear','rbf']\n",
    "gamma = ['auto','scale']\n",
    "C = np.arange(0.1,52,10)\n",
    "deg = np.arange(3,8)\n",
    "coef0 = np.arange(0.01,10,0.5)\n",
    "\n",
    "for i in kernel:\n",
    "    for j in gamma:\n",
    "        for k in C:\n",
    "            for l in deg:\n",
    "                for m in coef0:\n",
    "                    model = SVC(kernel = i , gamma = j , C = k, degree = l, coef0 = m)\n",
    "                    model.fit(X_train,y_train)\n"
   ]
  },
  {
   "cell_type": "markdown",
   "metadata": {},
   "source": [
    "# RandomForestClassifier"
   ]
  },
  {
   "cell_type": "code",
   "execution_count": 41,
   "metadata": {},
   "outputs": [
    {
     "name": "stderr",
     "output_type": "stream",
     "text": [
      "C:\\Users\\HP\\Anaconda3\\lib\\site-packages\\sklearn\\ensemble\\forest.py:245: FutureWarning: The default value of n_estimators will change from 10 in version 0.20 to 100 in 0.22.\n",
      "  \"10 in version 0.20 to 100 in 0.22.\", FutureWarning)\n"
     ]
    },
    {
     "name": "stdout",
     "output_type": "stream",
     "text": [
      "col_0       2     3     4     5  NA\n",
      "Priority                           \n",
      "1           0     0     1     0   0\n",
      "2         143     7    43    17   0\n",
      "3          42  1001   408   124   6\n",
      "4          66   200  6191   370   2\n",
      "5          12    49   907  3967   1\n",
      "NA         12   267   118    27   1\n",
      "0.8083965097983121\n"
     ]
    }
   ],
   "source": [
    "\n",
    "from sklearn.ensemble import RandomForestClassifier\n",
    "from sklearn.metrics import accuracy_score, classification_report, confusion_matrix\n",
    "\n",
    "rf = RandomForestClassifier()\n",
    "rf.fit(X_train,y_train)\n",
    "y_predictrf = rf.predict(X_test)\n",
    "print(pd.crosstab(y_test,y_predictrf))\n",
    "print(accuracy_score(y_test,y_predictrf))"
   ]
  },
  {
   "cell_type": "markdown",
   "metadata": {},
   "source": [
    "# Decision Tree"
   ]
  },
  {
   "cell_type": "code",
   "execution_count": 42,
   "metadata": {},
   "outputs": [
    {
     "name": "stdout",
     "output_type": "stream",
     "text": [
      "0.8086825919038764\n",
      "col_0       2     3     4     5\n",
      "Priority                       \n",
      "1           0     0     1     0\n",
      "2         144     6    43    17\n",
      "3          43  1010   407   121\n",
      "4          68   203  6194   364\n",
      "5          12    56   909  3959\n",
      "NA         12   268   118    27\n"
     ]
    }
   ],
   "source": [
    "from sklearn.tree import DecisionTreeClassifier\n",
    "dtree = DecisionTreeClassifier()\n",
    "dtree.fit(X_train,y_train)\n",
    "y_predictdtree = dtree.predict(X_test)\n",
    "print(accuracy_score(y_test,y_predictdtree))\n",
    "print(pd.crosstab(y_test,y_predictdtree))"
   ]
  },
  {
   "cell_type": "markdown",
   "metadata": {},
   "source": [
    "# k Neighbour classifier"
   ]
  },
  {
   "cell_type": "code",
   "execution_count": 43,
   "metadata": {},
   "outputs": [
    {
     "name": "stdout",
     "output_type": "stream",
     "text": [
      "0.7991703618938636\n",
      "col_0       2     3     4     5  NA\n",
      "Priority                           \n",
      "1           0     0     1     0   0\n",
      "2         140    18    38    14   0\n",
      "3          39  1029   409   104   0\n",
      "4          64   298  6161   306   0\n",
      "5          10   103   978  3844   1\n",
      "NA         11   280   111    23   0\n"
     ]
    }
   ],
   "source": [
    "from sklearn.neighbors import KNeighborsClassifier\n",
    "knn = KNeighborsClassifier()\n",
    "knn.fit(X_train,y_train)\n",
    "y_predictknn = knn.predict(X_test)\n",
    "print(accuracy_score(y_test,y_predictknn))\n",
    "print(pd.crosstab(y_test,y_predictknn))"
   ]
  },
  {
   "cell_type": "markdown",
   "metadata": {},
   "source": [
    "# XG boost classifier"
   ]
  },
  {
   "cell_type": "code",
   "execution_count": 48,
   "metadata": {},
   "outputs": [
    {
     "name": "stdout",
     "output_type": "stream",
     "text": [
      "0.7814332713488771\n",
      "col_0       2    3     4     5\n",
      "Priority                      \n",
      "1           0    0     1     0\n",
      "2         137    7    52    14\n",
      "3          36  715   641   189\n",
      "4          64  155  6186   424\n",
      "5          10   29  1009  3888\n",
      "NA         11  209   168    37\n"
     ]
    }
   ],
   "source": [
    "from xgboost import XGBClassifier\n",
    "xgb = XGBClassifier()\n",
    "xgb.fit(X_train,y_train)\n",
    "y_predictxgb = xgb.predict(X_test)\n",
    "print(accuracy_score(y_test,y_predictxgb))\n",
    "print(pd.crosstab(y_test,y_predictxgb))"
   ]
  },
  {
   "cell_type": "markdown",
   "metadata": {},
   "source": [
    "# artificial neural network"
   ]
  },
  {
   "cell_type": "code",
   "execution_count": 49,
   "metadata": {},
   "outputs": [
    {
     "name": "stdout",
     "output_type": "stream",
     "text": [
      "0.7497496781576313\n",
      "col_0       2    3     4     5\n",
      "Priority                      \n",
      "1           0    0     1     0\n",
      "2         137   10    49    14\n",
      "3          36  668   750   127\n",
      "4          67  226  6094   442\n",
      "5          10   74  1268  3584\n",
      "NA         11  185   213    16\n"
     ]
    },
    {
     "name": "stderr",
     "output_type": "stream",
     "text": [
      "C:\\Users\\HP\\Anaconda3\\lib\\site-packages\\sklearn\\neural_network\\multilayer_perceptron.py:566: ConvergenceWarning: Stochastic Optimizer: Maximum iterations (200) reached and the optimization hasn't converged yet.\n",
      "  % self.max_iter, ConvergenceWarning)\n"
     ]
    }
   ],
   "source": [
    "from sklearn.neural_network import MLPClassifier\n",
    "ann = MLPClassifier()\n",
    "ann.fit(X_train,y_train)\n",
    "y_predictann = ann.predict(X_test)\n",
    "print(accuracy_score(y_test,y_predictann))\n",
    "print(pd.crosstab(y_test,y_predictann))"
   ]
  },
  {
   "cell_type": "markdown",
   "metadata": {},
   "source": [
    "\n",
    "\n",
    "# forecast the incident volume"
   ]
  },
  {
   "cell_type": "code",
   "execution_count": 50,
   "metadata": {},
   "outputs": [],
   "source": [
    "inc_time = df.loc[:,['Incident_ID','Open_Time']]"
   ]
  },
  {
   "cell_type": "code",
   "execution_count": 51,
   "metadata": {},
   "outputs": [
    {
     "data": {
      "text/html": [
       "<div>\n",
       "<style scoped>\n",
       "    .dataframe tbody tr th:only-of-type {\n",
       "        vertical-align: middle;\n",
       "    }\n",
       "\n",
       "    .dataframe tbody tr th {\n",
       "        vertical-align: top;\n",
       "    }\n",
       "\n",
       "    .dataframe thead th {\n",
       "        text-align: right;\n",
       "    }\n",
       "</style>\n",
       "<table border=\"1\" class=\"dataframe\">\n",
       "  <thead>\n",
       "    <tr style=\"text-align: right;\">\n",
       "      <th></th>\n",
       "      <th>Incident_ID</th>\n",
       "      <th>Open_Time</th>\n",
       "    </tr>\n",
       "  </thead>\n",
       "  <tbody>\n",
       "    <tr>\n",
       "      <td>0</td>\n",
       "      <td>IM0000004</td>\n",
       "      <td>05-02-2012 13:32</td>\n",
       "    </tr>\n",
       "    <tr>\n",
       "      <td>1</td>\n",
       "      <td>IM0000005</td>\n",
       "      <td>12-03-2012 15:44</td>\n",
       "    </tr>\n",
       "    <tr>\n",
       "      <td>2</td>\n",
       "      <td>IM0000006</td>\n",
       "      <td>29-03-2012 12:36</td>\n",
       "    </tr>\n",
       "    <tr>\n",
       "      <td>3</td>\n",
       "      <td>IM0000011</td>\n",
       "      <td>17-07-2012 11:49</td>\n",
       "    </tr>\n",
       "    <tr>\n",
       "      <td>4</td>\n",
       "      <td>IM0000012</td>\n",
       "      <td>10-08-2012 11:01</td>\n",
       "    </tr>\n",
       "  </tbody>\n",
       "</table>\n",
       "</div>"
      ],
      "text/plain": [
       "  Incident_ID         Open_Time\n",
       "0   IM0000004  05-02-2012 13:32\n",
       "1   IM0000005  12-03-2012 15:44\n",
       "2   IM0000006  29-03-2012 12:36\n",
       "3   IM0000011  17-07-2012 11:49\n",
       "4   IM0000012  10-08-2012 11:01"
      ]
     },
     "execution_count": 51,
     "metadata": {},
     "output_type": "execute_result"
    }
   ],
   "source": [
    "inc_time.head()"
   ]
  },
  {
   "cell_type": "code",
   "execution_count": 52,
   "metadata": {},
   "outputs": [],
   "source": [
    "# df['Open_Time'] = pd.to_datetime(df['Open_Time']).dt.date\n",
    "df['Open_Time'] = pd.to_datetime(df['Open_Time'], format='%d-%m-%Y %H:%M').dt.date\n"
   ]
  },
  {
   "cell_type": "code",
   "execution_count": 53,
   "metadata": {},
   "outputs": [],
   "source": [
    "inc_time['No_Incidents'] = inc_time.groupby('Open_Time')['Incident_ID'].transform('count')"
   ]
  },
  {
   "cell_type": "code",
   "execution_count": 54,
   "metadata": {},
   "outputs": [
    {
     "data": {
      "text/plain": [
       "0        2012-02-05\n",
       "1        2012-03-12\n",
       "2        2012-03-29\n",
       "3        2012-07-17\n",
       "4        2012-08-10\n",
       "            ...    \n",
       "46601    2014-03-31\n",
       "46602    2014-03-31\n",
       "46603    2014-03-31\n",
       "46604    2014-03-31\n",
       "46605    2014-03-31\n",
       "Name: Open_Time, Length: 46606, dtype: object"
      ]
     },
     "execution_count": 54,
     "metadata": {},
     "output_type": "execute_result"
    }
   ],
   "source": [
    "df['Open_Time']"
   ]
  },
  {
   "cell_type": "code",
   "execution_count": 55,
   "metadata": {},
   "outputs": [],
   "source": [
    "df['Open_Time'] = pd.to_datetime(df['Open_Time'])"
   ]
  },
  {
   "cell_type": "code",
   "execution_count": 56,
   "metadata": {},
   "outputs": [
    {
     "name": "stdout",
     "output_type": "stream",
     "text": [
      "<class 'pandas.core.frame.DataFrame'>\n",
      "RangeIndex: 46606 entries, 0 to 46605\n",
      "Data columns (total 25 columns):\n",
      "CI_Name                       46606 non-null object\n",
      "CI_Cat                        46606 non-null object\n",
      "CI_Subcat                     46606 non-null object\n",
      "WBS                           46606 non-null object\n",
      "Incident_ID                   46606 non-null object\n",
      "Status                        46606 non-null object\n",
      "Impact                        46606 non-null object\n",
      "Urgency                       46606 non-null object\n",
      "Priority                      46606 non-null object\n",
      "number_count                  46606 non-null object\n",
      "Category                      46606 non-null object\n",
      "KB_number                     46606 non-null object\n",
      "Alert_Status                  46606 non-null object\n",
      "No_of_Reassignments           46605 non-null object\n",
      "Open_Time                     46606 non-null datetime64[ns]\n",
      "Reopen_Time                   2284 non-null object\n",
      "Resolved_Time                 44826 non-null object\n",
      "Close_Time                    46606 non-null object\n",
      "Handle_Time_hrs               46605 non-null object\n",
      "Closure_Code                  46146 non-null object\n",
      "No_of_Related_Interactions    46606 non-null object\n",
      "Related_Interaction           46606 non-null object\n",
      "No_of_Related_Incidents       46606 non-null object\n",
      "No_of_Related_Changes         46606 non-null object\n",
      "Related_Change                560 non-null object\n",
      "dtypes: datetime64[ns](1), object(24)\n",
      "memory usage: 8.9+ MB\n"
     ]
    }
   ],
   "source": [
    "df.info()"
   ]
  },
  {
   "cell_type": "code",
   "execution_count": 57,
   "metadata": {},
   "outputs": [
    {
     "data": {
      "text/html": [
       "<div>\n",
       "<style scoped>\n",
       "    .dataframe tbody tr th:only-of-type {\n",
       "        vertical-align: middle;\n",
       "    }\n",
       "\n",
       "    .dataframe tbody tr th {\n",
       "        vertical-align: top;\n",
       "    }\n",
       "\n",
       "    .dataframe thead th {\n",
       "        text-align: right;\n",
       "    }\n",
       "</style>\n",
       "<table border=\"1\" class=\"dataframe\">\n",
       "  <thead>\n",
       "    <tr style=\"text-align: right;\">\n",
       "      <th></th>\n",
       "      <th>CI_Name</th>\n",
       "      <th>CI_Cat</th>\n",
       "      <th>CI_Subcat</th>\n",
       "      <th>WBS</th>\n",
       "      <th>Incident_ID</th>\n",
       "      <th>Status</th>\n",
       "      <th>Impact</th>\n",
       "      <th>Urgency</th>\n",
       "      <th>Priority</th>\n",
       "      <th>number_count</th>\n",
       "      <th>...</th>\n",
       "      <th>Reopen_Time</th>\n",
       "      <th>Resolved_Time</th>\n",
       "      <th>Close_Time</th>\n",
       "      <th>Handle_Time_hrs</th>\n",
       "      <th>Closure_Code</th>\n",
       "      <th>No_of_Related_Interactions</th>\n",
       "      <th>Related_Interaction</th>\n",
       "      <th>No_of_Related_Incidents</th>\n",
       "      <th>No_of_Related_Changes</th>\n",
       "      <th>Related_Change</th>\n",
       "    </tr>\n",
       "  </thead>\n",
       "  <tbody>\n",
       "    <tr>\n",
       "      <td>24520</td>\n",
       "      <td>SBA000759</td>\n",
       "      <td>application</td>\n",
       "      <td>Server Based Application</td>\n",
       "      <td>WBS000296</td>\n",
       "      <td>IM0024778</td>\n",
       "      <td>Closed</td>\n",
       "      <td>5</td>\n",
       "      <td>5</td>\n",
       "      <td>5</td>\n",
       "      <td>0.900155316</td>\n",
       "      <td>...</td>\n",
       "      <td>NaN</td>\n",
       "      <td>07-01-2014 14:46</td>\n",
       "      <td>07-01-2014 14:46</td>\n",
       "      <td>NaN</td>\n",
       "      <td>Software</td>\n",
       "      <td>1</td>\n",
       "      <td>SD0073944</td>\n",
       "      <td>0</td>\n",
       "      <td>0</td>\n",
       "      <td>NaN</td>\n",
       "    </tr>\n",
       "  </tbody>\n",
       "</table>\n",
       "<p>1 rows × 25 columns</p>\n",
       "</div>"
      ],
      "text/plain": [
       "         CI_Name       CI_Cat                 CI_Subcat        WBS  \\\n",
       "24520  SBA000759  application  Server Based Application  WBS000296   \n",
       "\n",
       "      Incident_ID  Status Impact Urgency Priority number_count  ...  \\\n",
       "24520   IM0024778  Closed      5       5        5  0.900155316  ...   \n",
       "\n",
       "      Reopen_Time     Resolved_Time        Close_Time Handle_Time_hrs  \\\n",
       "24520         NaN  07-01-2014 14:46  07-01-2014 14:46             NaN   \n",
       "\n",
       "      Closure_Code No_of_Related_Interactions Related_Interaction  \\\n",
       "24520     Software                          1           SD0073944   \n",
       "\n",
       "      No_of_Related_Incidents No_of_Related_Changes Related_Change  \n",
       "24520                       0                     0            NaN  \n",
       "\n",
       "[1 rows x 25 columns]"
      ]
     },
     "execution_count": 57,
     "metadata": {},
     "output_type": "execute_result"
    }
   ],
   "source": [
    "boo = pd.isnull(df['No_of_Reassignments'])\n",
    "df[boo]"
   ]
  },
  {
   "cell_type": "code",
   "execution_count": null,
   "metadata": {},
   "outputs": [],
   "source": []
  },
  {
   "cell_type": "code",
   "execution_count": 58,
   "metadata": {},
   "outputs": [],
   "source": [
    "import datetime as dt"
   ]
  },
  {
   "cell_type": "code",
   "execution_count": 59,
   "metadata": {},
   "outputs": [],
   "source": [
    "inc_time.drop(['Incident_ID'],axis=1,inplace=True)\n",
    "inc_time.drop_duplicates(inplace=True)"
   ]
  },
  {
   "cell_type": "code",
   "execution_count": 60,
   "metadata": {},
   "outputs": [],
   "source": [
    "\n",
    "inc_time = inc_time.set_index('Open_Time')\n",
    "# inc_time.index = pd.to_datetime(inc_time.index)\n",
    "# inc_time.index"
   ]
  },
  {
   "cell_type": "code",
   "execution_count": 61,
   "metadata": {},
   "outputs": [
    {
     "name": "stdout",
     "output_type": "stream",
     "text": [
      "01-02-2014 11:48 to 31-12-2013 16:49\n"
     ]
    }
   ],
   "source": [
    "print(inc_time.index.min(),'to',inc_time.index.max())"
   ]
  },
  {
   "cell_type": "code",
   "execution_count": 62,
   "metadata": {},
   "outputs": [
    {
     "ename": "KeyError",
     "evalue": "'No_Incidents'",
     "output_type": "error",
     "traceback": [
      "\u001b[1;31m---------------------------------------------------------------------------\u001b[0m",
      "\u001b[1;31mKeyError\u001b[0m                                  Traceback (most recent call last)",
      "\u001b[1;32m~\\Anaconda3\\lib\\site-packages\\pandas\\core\\indexes\\base.py\u001b[0m in \u001b[0;36mget_loc\u001b[1;34m(self, key, method, tolerance)\u001b[0m\n\u001b[0;32m   2896\u001b[0m             \u001b[1;32mtry\u001b[0m\u001b[1;33m:\u001b[0m\u001b[1;33m\u001b[0m\u001b[1;33m\u001b[0m\u001b[0m\n\u001b[1;32m-> 2897\u001b[1;33m                 \u001b[1;32mreturn\u001b[0m \u001b[0mself\u001b[0m\u001b[1;33m.\u001b[0m\u001b[0m_engine\u001b[0m\u001b[1;33m.\u001b[0m\u001b[0mget_loc\u001b[0m\u001b[1;33m(\u001b[0m\u001b[0mkey\u001b[0m\u001b[1;33m)\u001b[0m\u001b[1;33m\u001b[0m\u001b[1;33m\u001b[0m\u001b[0m\n\u001b[0m\u001b[0;32m   2898\u001b[0m             \u001b[1;32mexcept\u001b[0m \u001b[0mKeyError\u001b[0m\u001b[1;33m:\u001b[0m\u001b[1;33m\u001b[0m\u001b[1;33m\u001b[0m\u001b[0m\n",
      "\u001b[1;32mpandas\\_libs\\index.pyx\u001b[0m in \u001b[0;36mpandas._libs.index.IndexEngine.get_loc\u001b[1;34m()\u001b[0m\n",
      "\u001b[1;32mpandas\\_libs\\index.pyx\u001b[0m in \u001b[0;36mpandas._libs.index.IndexEngine.get_loc\u001b[1;34m()\u001b[0m\n",
      "\u001b[1;32mpandas\\_libs\\hashtable_class_helper.pxi\u001b[0m in \u001b[0;36mpandas._libs.hashtable.PyObjectHashTable.get_item\u001b[1;34m()\u001b[0m\n",
      "\u001b[1;32mpandas\\_libs\\hashtable_class_helper.pxi\u001b[0m in \u001b[0;36mpandas._libs.hashtable.PyObjectHashTable.get_item\u001b[1;34m()\u001b[0m\n",
      "\u001b[1;31mKeyError\u001b[0m: 'No_Incidents'",
      "\nDuring handling of the above exception, another exception occurred:\n",
      "\u001b[1;31mKeyError\u001b[0m                                  Traceback (most recent call last)",
      "\u001b[1;32m<ipython-input-62-844ce511767c>\u001b[0m in \u001b[0;36m<module>\u001b[1;34m\u001b[0m\n\u001b[1;32m----> 1\u001b[1;33m \u001b[0mdf\u001b[0m\u001b[1;33m[\u001b[0m\u001b[1;34m'No_Incidents'\u001b[0m\u001b[1;33m]\u001b[0m\u001b[1;33m\u001b[0m\u001b[1;33m\u001b[0m\u001b[0m\n\u001b[0m",
      "\u001b[1;32m~\\Anaconda3\\lib\\site-packages\\pandas\\core\\frame.py\u001b[0m in \u001b[0;36m__getitem__\u001b[1;34m(self, key)\u001b[0m\n\u001b[0;32m   2978\u001b[0m             \u001b[1;32mif\u001b[0m \u001b[0mself\u001b[0m\u001b[1;33m.\u001b[0m\u001b[0mcolumns\u001b[0m\u001b[1;33m.\u001b[0m\u001b[0mnlevels\u001b[0m \u001b[1;33m>\u001b[0m \u001b[1;36m1\u001b[0m\u001b[1;33m:\u001b[0m\u001b[1;33m\u001b[0m\u001b[1;33m\u001b[0m\u001b[0m\n\u001b[0;32m   2979\u001b[0m                 \u001b[1;32mreturn\u001b[0m \u001b[0mself\u001b[0m\u001b[1;33m.\u001b[0m\u001b[0m_getitem_multilevel\u001b[0m\u001b[1;33m(\u001b[0m\u001b[0mkey\u001b[0m\u001b[1;33m)\u001b[0m\u001b[1;33m\u001b[0m\u001b[1;33m\u001b[0m\u001b[0m\n\u001b[1;32m-> 2980\u001b[1;33m             \u001b[0mindexer\u001b[0m \u001b[1;33m=\u001b[0m \u001b[0mself\u001b[0m\u001b[1;33m.\u001b[0m\u001b[0mcolumns\u001b[0m\u001b[1;33m.\u001b[0m\u001b[0mget_loc\u001b[0m\u001b[1;33m(\u001b[0m\u001b[0mkey\u001b[0m\u001b[1;33m)\u001b[0m\u001b[1;33m\u001b[0m\u001b[1;33m\u001b[0m\u001b[0m\n\u001b[0m\u001b[0;32m   2981\u001b[0m             \u001b[1;32mif\u001b[0m \u001b[0mis_integer\u001b[0m\u001b[1;33m(\u001b[0m\u001b[0mindexer\u001b[0m\u001b[1;33m)\u001b[0m\u001b[1;33m:\u001b[0m\u001b[1;33m\u001b[0m\u001b[1;33m\u001b[0m\u001b[0m\n\u001b[0;32m   2982\u001b[0m                 \u001b[0mindexer\u001b[0m \u001b[1;33m=\u001b[0m \u001b[1;33m[\u001b[0m\u001b[0mindexer\u001b[0m\u001b[1;33m]\u001b[0m\u001b[1;33m\u001b[0m\u001b[1;33m\u001b[0m\u001b[0m\n",
      "\u001b[1;32m~\\Anaconda3\\lib\\site-packages\\pandas\\core\\indexes\\base.py\u001b[0m in \u001b[0;36mget_loc\u001b[1;34m(self, key, method, tolerance)\u001b[0m\n\u001b[0;32m   2897\u001b[0m                 \u001b[1;32mreturn\u001b[0m \u001b[0mself\u001b[0m\u001b[1;33m.\u001b[0m\u001b[0m_engine\u001b[0m\u001b[1;33m.\u001b[0m\u001b[0mget_loc\u001b[0m\u001b[1;33m(\u001b[0m\u001b[0mkey\u001b[0m\u001b[1;33m)\u001b[0m\u001b[1;33m\u001b[0m\u001b[1;33m\u001b[0m\u001b[0m\n\u001b[0;32m   2898\u001b[0m             \u001b[1;32mexcept\u001b[0m \u001b[0mKeyError\u001b[0m\u001b[1;33m:\u001b[0m\u001b[1;33m\u001b[0m\u001b[1;33m\u001b[0m\u001b[0m\n\u001b[1;32m-> 2899\u001b[1;33m                 \u001b[1;32mreturn\u001b[0m \u001b[0mself\u001b[0m\u001b[1;33m.\u001b[0m\u001b[0m_engine\u001b[0m\u001b[1;33m.\u001b[0m\u001b[0mget_loc\u001b[0m\u001b[1;33m(\u001b[0m\u001b[0mself\u001b[0m\u001b[1;33m.\u001b[0m\u001b[0m_maybe_cast_indexer\u001b[0m\u001b[1;33m(\u001b[0m\u001b[0mkey\u001b[0m\u001b[1;33m)\u001b[0m\u001b[1;33m)\u001b[0m\u001b[1;33m\u001b[0m\u001b[1;33m\u001b[0m\u001b[0m\n\u001b[0m\u001b[0;32m   2900\u001b[0m         \u001b[0mindexer\u001b[0m \u001b[1;33m=\u001b[0m \u001b[0mself\u001b[0m\u001b[1;33m.\u001b[0m\u001b[0mget_indexer\u001b[0m\u001b[1;33m(\u001b[0m\u001b[1;33m[\u001b[0m\u001b[0mkey\u001b[0m\u001b[1;33m]\u001b[0m\u001b[1;33m,\u001b[0m \u001b[0mmethod\u001b[0m\u001b[1;33m=\u001b[0m\u001b[0mmethod\u001b[0m\u001b[1;33m,\u001b[0m \u001b[0mtolerance\u001b[0m\u001b[1;33m=\u001b[0m\u001b[0mtolerance\u001b[0m\u001b[1;33m)\u001b[0m\u001b[1;33m\u001b[0m\u001b[1;33m\u001b[0m\u001b[0m\n\u001b[0;32m   2901\u001b[0m         \u001b[1;32mif\u001b[0m \u001b[0mindexer\u001b[0m\u001b[1;33m.\u001b[0m\u001b[0mndim\u001b[0m \u001b[1;33m>\u001b[0m \u001b[1;36m1\u001b[0m \u001b[1;32mor\u001b[0m \u001b[0mindexer\u001b[0m\u001b[1;33m.\u001b[0m\u001b[0msize\u001b[0m \u001b[1;33m>\u001b[0m \u001b[1;36m1\u001b[0m\u001b[1;33m:\u001b[0m\u001b[1;33m\u001b[0m\u001b[1;33m\u001b[0m\u001b[0m\n",
      "\u001b[1;32mpandas\\_libs\\index.pyx\u001b[0m in \u001b[0;36mpandas._libs.index.IndexEngine.get_loc\u001b[1;34m()\u001b[0m\n",
      "\u001b[1;32mpandas\\_libs\\index.pyx\u001b[0m in \u001b[0;36mpandas._libs.index.IndexEngine.get_loc\u001b[1;34m()\u001b[0m\n",
      "\u001b[1;32mpandas\\_libs\\hashtable_class_helper.pxi\u001b[0m in \u001b[0;36mpandas._libs.hashtable.PyObjectHashTable.get_item\u001b[1;34m()\u001b[0m\n",
      "\u001b[1;32mpandas\\_libs\\hashtable_class_helper.pxi\u001b[0m in \u001b[0;36mpandas._libs.hashtable.PyObjectHashTable.get_item\u001b[1;34m()\u001b[0m\n",
      "\u001b[1;31mKeyError\u001b[0m: 'No_Incidents'"
     ]
    }
   ],
   "source": [
    "df['No_Incidents']"
   ]
  },
  {
   "cell_type": "code",
   "execution_count": null,
   "metadata": {},
   "outputs": [],
   "source": [
    "data1 = inc_time['No_Incidents']\n",
    "data1 = data1.asfreq('D')\n",
    "data1.index"
   ]
  },
  {
   "cell_type": "code",
   "execution_count": null,
   "metadata": {},
   "outputs": [],
   "source": [
    "df.info()"
   ]
  },
  {
   "cell_type": "code",
   "execution_count": null,
   "metadata": {},
   "outputs": [],
   "source": [
    "data1.head()"
   ]
  },
  {
   "cell_type": "code",
   "execution_count": null,
   "metadata": {},
   "outputs": [],
   "source": [
    "\n",
    "import matplotlib.pyplot as plt\n",
    "data1.plot(figsize=(15,6))\n",
    "plt.show()"
   ]
  },
  {
   "cell_type": "code",
   "execution_count": null,
   "metadata": {},
   "outputs": [],
   "source": [
    "inc_time_above_2013 = inc_time[inc_time.index > dt.date(2013,10,1)]\n",
    "inc_time_above_2013.head()"
   ]
  },
  {
   "cell_type": "code",
   "execution_count": null,
   "metadata": {},
   "outputs": [],
   "source": [
    "\n",
    "\n",
    "data2 = inc_time_above_2013['No_Incidents']\n",
    "data2 = data2.asfreq('D')\n",
    "data2.index"
   ]
  },
  {
   "cell_type": "code",
   "execution_count": null,
   "metadata": {},
   "outputs": [],
   "source": [
    "# Plotting number of tickets per day after October 2013\n",
    "data2.plot(figsize=(15,6))\n",
    "plt.show()"
   ]
  },
  {
   "cell_type": "code",
   "execution_count": null,
   "metadata": {},
   "outputs": [],
   "source": [
    "x = y = z = range(0,2)\n",
    "pdq = list(itertools.product(x,y,z))\n",
    "\n",
    "for param in pdq:\n",
    "    mod = sm.tsa.statespace.SARIMAX(data2,order=param,enforce_stationarity=False,enforce_invertibility=False)\n",
    "    results = mod.fit()\n",
    "    print('ARIMA{} - AIC:{}'.format(param, results.aic))"
   ]
  },
  {
   "cell_type": "code",
   "execution_count": null,
   "metadata": {},
   "outputs": [],
   "source": [
    "pred = results.get_prediction(start=pd.to_datetime('2014-3-3'),end=pd.to_datetime('2014-10-30'),dynamic=False)\n",
    "pred_ci = pred.conf_int()\n",
    "pred.predicted_mean.round()"
   ]
  },
  {
   "cell_type": "code",
   "execution_count": null,
   "metadata": {},
   "outputs": [],
   "source": []
  },
  {
   "cell_type": "code",
   "execution_count": null,
   "metadata": {},
   "outputs": [],
   "source": []
  }
 ],
 "metadata": {
  "kernelspec": {
   "display_name": "Python 3",
   "language": "python",
   "name": "python3"
  },
  "language_info": {
   "codemirror_mode": {
    "name": "ipython",
    "version": 3
   },
   "file_extension": ".py",
   "mimetype": "text/x-python",
   "name": "python",
   "nbconvert_exporter": "python",
   "pygments_lexer": "ipython3",
   "version": "3.7.4"
  }
 },
 "nbformat": 4,
 "nbformat_minor": 2
}
